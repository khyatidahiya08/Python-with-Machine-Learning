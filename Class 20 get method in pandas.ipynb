{
 "cells": [
  {
   "cell_type": "code",
   "execution_count": 3,
   "metadata": {
    "collapsed": true
   },
   "outputs": [
    {
     "data": {
      "text/html": [
       "<div>\n",
       "<style scoped>\n",
       "    .dataframe tbody tr th:only-of-type {\n",
       "        vertical-align: middle;\n",
       "    }\n",
       "\n",
       "    .dataframe tbody tr th {\n",
       "        vertical-align: top;\n",
       "    }\n",
       "\n",
       "    .dataframe thead th {\n",
       "        text-align: right;\n",
       "    }\n",
       "</style>\n",
       "<table border=\"1\" class=\"dataframe\">\n",
       "  <thead>\n",
       "    <tr style=\"text-align: right;\">\n",
       "      <th></th>\n",
       "      <th>Name</th>\n",
       "      <th>Department</th>\n",
       "    </tr>\n",
       "  </thead>\n",
       "  <tbody>\n",
       "    <tr>\n",
       "      <th>0</th>\n",
       "      <td>Aman</td>\n",
       "      <td>Civil</td>\n",
       "    </tr>\n",
       "    <tr>\n",
       "      <th>1</th>\n",
       "      <td>Zamira</td>\n",
       "      <td>Civil</td>\n",
       "    </tr>\n",
       "    <tr>\n",
       "      <th>2</th>\n",
       "      <td>Mira</td>\n",
       "      <td>Tech</td>\n",
       "    </tr>\n",
       "    <tr>\n",
       "      <th>3</th>\n",
       "      <td>Kiran</td>\n",
       "      <td>Electronic</td>\n",
       "    </tr>\n",
       "    <tr>\n",
       "      <th>4</th>\n",
       "      <td>Akabar</td>\n",
       "      <td>Computer</td>\n",
       "    </tr>\n",
       "    <tr>\n",
       "      <th>5</th>\n",
       "      <td>Jyoti</td>\n",
       "      <td>Normal</td>\n",
       "    </tr>\n",
       "    <tr>\n",
       "      <th>6</th>\n",
       "      <td>Anurag</td>\n",
       "      <td>Engg</td>\n",
       "    </tr>\n",
       "    <tr>\n",
       "      <th>7</th>\n",
       "      <td>Teja</td>\n",
       "      <td>It</td>\n",
       "    </tr>\n",
       "    <tr>\n",
       "      <th>8</th>\n",
       "      <td>Pawash</td>\n",
       "      <td>Tech</td>\n",
       "    </tr>\n",
       "    <tr>\n",
       "      <th>9</th>\n",
       "      <td>Rajkuamr</td>\n",
       "      <td>Electronic</td>\n",
       "    </tr>\n",
       "    <tr>\n",
       "      <th>10</th>\n",
       "      <td>Ajay</td>\n",
       "      <td>Fire</td>\n",
       "    </tr>\n",
       "    <tr>\n",
       "      <th>11</th>\n",
       "      <td>Akira</td>\n",
       "      <td>Cs</td>\n",
       "    </tr>\n",
       "    <tr>\n",
       "      <th>12</th>\n",
       "      <td>Arina</td>\n",
       "      <td>Engg</td>\n",
       "    </tr>\n",
       "    <tr>\n",
       "      <th>13</th>\n",
       "      <td>Raj</td>\n",
       "      <td>Mech</td>\n",
       "    </tr>\n",
       "    <tr>\n",
       "      <th>14</th>\n",
       "      <td>Anmol</td>\n",
       "      <td>Mech</td>\n",
       "    </tr>\n",
       "    <tr>\n",
       "      <th>15</th>\n",
       "      <td>Jay</td>\n",
       "      <td>Cs</td>\n",
       "    </tr>\n",
       "  </tbody>\n",
       "</table>\n",
       "</div>"
      ],
      "text/plain": [
       "        Name  Department\n",
       "0       Aman       Civil\n",
       "1     Zamira       Civil\n",
       "2       Mira        Tech\n",
       "3      Kiran  Electronic\n",
       "4     Akabar    Computer\n",
       "5      Jyoti      Normal\n",
       "6     Anurag        Engg\n",
       "7       Teja          It\n",
       "8     Pawash        Tech\n",
       "9   Rajkuamr  Electronic\n",
       "10      Ajay        Fire\n",
       "11     Akira          Cs\n",
       "12     Arina        Engg\n",
       "13       Raj        Mech\n",
       "14     Anmol        Mech\n",
       "15       Jay          Cs"
      ]
     },
     "execution_count": 3,
     "metadata": {},
     "output_type": "execute_result"
    }
   ],
   "source": [
    "import pandas as pd#this is the actual file in excel\n",
    "data=pd.read_csv(\"dept.csv\")\n",
    "data"
   ]
  },
  {
   "cell_type": "code",
   "execution_count": 9,
   "metadata": {
    "collapsed": true
   },
   "outputs": [
    {
     "data": {
      "text/plain": [
       "Name\n",
       "Ajay              Fire\n",
       "Akabar        Computer\n",
       "Akira               Cs\n",
       "Aman             Civil\n",
       "Anmol             Mech\n",
       "Anurag            Engg\n",
       "Arina             Engg\n",
       "Jay                 Cs\n",
       "Jyoti           Normal\n",
       "Kiran       Electronic\n",
       "Mira              Tech\n",
       "Pawash            Tech\n",
       "Raj               Mech\n",
       "Rajkuamr    Electronic\n",
       "Teja                It\n",
       "Zamira           Civil\n",
       "Name: Department, dtype: object"
      ]
     },
     "execution_count": 9,
     "metadata": {},
     "output_type": "execute_result"
    }
   ],
   "source": [
    "#now if we want to use the column as the index in this file and therefore the other column department has automatically \n",
    "#been set to be the value because there are only 2 columns in the file\n",
    "data=pd.read_csv(\"dept.csv\",index_col='Name',squeeze=True) #here squeeze basically squeezes the column other than index i.e \n",
    "#department i.e we have the name column shown because we have assigned it as the index\n",
    "#now we sort the index values i.e the name column alphabetically\n",
    "data.sort_index()"
   ]
  },
  {
   "cell_type": "code",
   "execution_count": 13,
   "metadata": {
    "collapsed": true
   },
   "outputs": [
    {
     "data": {
      "text/plain": [
       "Name\n",
       "Ajay              Fire\n",
       "Akabar        Computer\n",
       "Akira               Cs\n",
       "Aman             Civil\n",
       "Anmol             Mech\n",
       "Anurag            Engg\n",
       "Arina             Engg\n",
       "Jay                 Cs\n",
       "Jyoti           Normal\n",
       "Kiran       Electronic\n",
       "Mira              Tech\n",
       "Pawash            Tech\n",
       "Raj               Mech\n",
       "Rajkuamr    Electronic\n",
       "Teja                It\n",
       "Zamira           Civil\n",
       "Name: Department, dtype: object"
      ]
     },
     "execution_count": 13,
     "metadata": {},
     "output_type": "execute_result"
    }
   ],
   "source": [
    "#data=data.sort_index()#this command basically sorts the values in our data such that they can be used in the next cell also \n",
    "#i.e after using this sorting command the data will be permanently sorted\n",
    "#data"
   ]
  },
  {
   "cell_type": "code",
   "execution_count": 14,
   "metadata": {
    "collapsed": true
   },
   "outputs": [
    {
     "data": {
      "text/plain": [
       "Name\n",
       "Ajay              Fire\n",
       "Akabar        Computer\n",
       "Akira               Cs\n",
       "Aman             Civil\n",
       "Anmol             Mech\n",
       "Anurag            Engg\n",
       "Arina             Engg\n",
       "Jay                 Cs\n",
       "Jyoti           Normal\n",
       "Kiran       Electronic\n",
       "Mira              Tech\n",
       "Pawash            Tech\n",
       "Raj               Mech\n",
       "Rajkuamr    Electronic\n",
       "Teja                It\n",
       "Zamira           Civil\n",
       "Name: Department, dtype: object"
      ]
     },
     "execution_count": 14,
     "metadata": {},
     "output_type": "execute_result"
    }
   ],
   "source": [
    "data.sort_index(inplace=True)#this command also sorts the values in our data such that they can be used in the next cell also \n",
    "#i.e after using this sorting command the data will be permanently sorted\n",
    "data"
   ]
  },
  {
   "cell_type": "code",
   "execution_count": 15,
   "metadata": {
    "collapsed": true
   },
   "outputs": [
    {
     "data": {
      "text/plain": [
       "'Fire'"
      ]
     },
     "execution_count": 15,
     "metadata": {},
     "output_type": "execute_result"
    }
   ],
   "source": [
    "data.get(\"Ajay\")#gets the value at the index ajay"
   ]
  },
  {
   "cell_type": "code",
   "execution_count": 16,
   "metadata": {
    "collapsed": true
   },
   "outputs": [
    {
     "data": {
      "text/plain": [
       "Name\n",
       "Ajay     Fire\n",
       "Akira      Cs\n",
       "Name: Department, dtype: object"
      ]
     },
     "execution_count": 16,
     "metadata": {},
     "output_type": "execute_result"
    }
   ],
   "source": [
    "data.get(['Ajay','Akira'])#gets the value at the index ajay and akira"
   ]
  },
  {
   "cell_type": "code",
   "execution_count": 17,
   "metadata": {
    "collapsed": true
   },
   "outputs": [
    {
     "data": {
      "text/plain": [
       "'Civil'"
      ]
     },
     "execution_count": 17,
     "metadata": {},
     "output_type": "execute_result"
    }
   ],
   "source": [
    "data.get(key='Aman')#gets the value by key  or index value"
   ]
  },
  {
   "cell_type": "code",
   "execution_count": 18,
   "metadata": {
    "collapsed": true
   },
   "outputs": [
    {
     "data": {
      "text/plain": [
       "'this is not a data'"
      ]
     },
     "execution_count": 18,
     "metadata": {},
     "output_type": "execute_result"
    }
   ],
   "source": [
    "data.get(key='Anmo',default='this is not a data')#since anmo is not key in our data thus the message this is not data is displayed"
   ]
  },
  {
   "cell_type": "code",
   "execution_count": 20,
   "metadata": {
    "collapsed": true
   },
   "outputs": [
    {
     "data": {
      "text/plain": [
       "Name\n",
       "Ajay     Fire\n",
       "Akira      Cs\n",
       "Name: Department, dtype: object"
      ]
     },
     "execution_count": 20,
     "metadata": {},
     "output_type": "execute_result"
    }
   ],
   "source": [
    "data.get(key=['Ajay','Akira'])#displays values at the respectively mentioned keys"
   ]
  },
  {
   "cell_type": "code",
   "execution_count": null,
   "metadata": {},
   "outputs": [],
   "source": []
  }
 ],
 "metadata": {
  "kernelspec": {
   "display_name": "Python 3",
   "language": "python",
   "name": "python3"
  },
  "language_info": {
   "codemirror_mode": {
    "name": "ipython",
    "version": 3
   },
   "file_extension": ".py",
   "mimetype": "text/x-python",
   "name": "python",
   "nbconvert_exporter": "python",
   "pygments_lexer": "ipython3",
   "version": "3.8.8"
  }
 },
 "nbformat": 4,
 "nbformat_minor": 2
}
